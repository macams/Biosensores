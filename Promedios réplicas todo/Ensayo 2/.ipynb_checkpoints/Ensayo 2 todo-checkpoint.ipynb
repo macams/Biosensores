{
 "cells": [
  {
   "cell_type": "code",
   "execution_count": 1,
   "metadata": {
    "collapsed": true
   },
   "outputs": [],
   "source": [
    "import numpy as np\n",
    "import matplotlib \n",
    "import matplotlib.pyplot as plt\n",
    "%matplotlib inline\n",
    "from matplotlib import colors\n",
    "from scipy.interpolate import UnivariateSpline\n",
    "from scipy.optimize import curve_fit\n",
    "from scipy import stats\n",
    "import seaborn as sns"
   ]
  },
  {
   "cell_type": "code",
   "execution_count": 20,
   "metadata": {
    "collapsed": false
   },
   "outputs": [
    {
     "data": {
      "text/plain": [
       "'\\nprint(cfpcg1.shape)\\nprint(rfpcg1.shape)\\nprint(yfpcg1.shape)\\nprint(odcg1.shape)\\nprint(cfpcg1.shape)\\nprint(rfpcg1.shape)\\nprint(yfpcg1.shape)\\nprint(odcg1.shape)\\nprint(cfpcg1.shape)\\nprint(rfpcg1.shape)\\nprint(yfpcg1.shape)\\nprint(odcg1.shape)'"
      ]
     },
     "execution_count": 20,
     "metadata": {},
     "output_type": "execute_result"
    }
   ],
   "source": [
    "tt=np.fromfile('t', sep=',')\n",
    "\n",
    "#arrays replicas glucosa\n",
    "cfp15211=np.fromfile('p1521gCFP1', sep=',')\n",
    "rfp15211=np.fromfile('p1521gRFP1', sep=',')\n",
    "yfp15211=np.fromfile('p1521gYFP1', sep=',')\n",
    "od15211=np.fromfile('p1521gOD1', sep=',')\n",
    "cfp15212=np.fromfile('p1521gCFP2', sep=',')\n",
    "rfp15212=np.fromfile('p1521gRFP2', sep=',')\n",
    "yfp15212=np.fromfile('p1521gYFP2', sep=',')\n",
    "od15212=np.fromfile('p1521gOD2', sep=',')\n",
    "cfp15213=np.fromfile('p1521gCFP3', sep=',')\n",
    "rfp15213=np.fromfile('p1521gRFP3', sep=',')\n",
    "yfp15213=np.fromfile('p1521gYFP3', sep=',')\n",
    "od15213=np.fromfile('p1521gOD3', sep=',')\n",
    "'''\n",
    "print(cfp15211.shape)\n",
    "print(rfp15211.shape)\n",
    "print(yfp15211.shape)\n",
    "print(od15211.shape)\n",
    "print(cfp15212.shape)\n",
    "print(rfp15212.shape)\n",
    "print(yfp15212.shape)\n",
    "print(od15212.shape)\n",
    "print(cfp15213.shape)\n",
    "print(rfp15213.shape)\n",
    "print(yfp15213.shape)\n",
    "print(od15213.shape)'''\n",
    "\n",
    "\n",
    "cfp15231=np.fromfile('p1523gCFP1', sep=',')\n",
    "rfp15231=np.fromfile('p1523gRFP1', sep=',')\n",
    "yfp15231=np.fromfile('p1523gYFP1', sep=',')\n",
    "od15231=np.fromfile('p1523gOD1', sep=',')\n",
    "cfp15232=np.fromfile('p1523gCFP2', sep=',')\n",
    "rfp15232=np.fromfile('p1523gRFP2', sep=',')\n",
    "yfp15232=np.fromfile('p1523gYFP2', sep=',')\n",
    "od15232=np.fromfile('p1523gOD2', sep=',')\n",
    "cfp15233=np.fromfile('p1523gCFP3', sep=',')\n",
    "rfp15233=np.fromfile('p1523gRFP3', sep=',')\n",
    "yfp15233=np.fromfile('p1523gYFP3', sep=',')\n",
    "od15233=np.fromfile('p1523gOD3', sep=',')\n",
    "\n",
    "'''\n",
    "print(cfp15231.shape)\n",
    "print(rfp15231.shape)\n",
    "print(yfp15231.shape)\n",
    "print(od15231.shape)\n",
    "print(cfp15232.shape)\n",
    "print(rfp15232.shape)\n",
    "print(yfp15232.shape)\n",
    "print(od15232.shape)\n",
    "print(cfp15233.shape)\n",
    "print(rfp15233.shape)\n",
    "print(yfp15233.shape)\n",
    "print(od15233.shape)'''\n",
    "\n",
    "cfp15261=np.fromfile('p1526gCFP1', sep=',')\n",
    "rfp15261=np.fromfile('p1526gRFP1', sep=',')\n",
    "yfp15261=np.fromfile('p1526gYFP1', sep=',')\n",
    "od15261=np.fromfile('p1526gOD1', sep=',')\n",
    "cfp15262=np.fromfile('p1526gCFP2', sep=',')\n",
    "rfp15262=np.fromfile('p1526gRFP2', sep=',')\n",
    "yfp15262=np.fromfile('p1526gYFP2', sep=',')\n",
    "od15262=np.fromfile('p1526gOD2', sep=',')\n",
    "cfp15263=np.fromfile('p1526gCFP3', sep=',')\n",
    "rfp15263=np.fromfile('p1526gRFP3', sep=',')\n",
    "yfp15263=np.fromfile('p1526gYFP3', sep=',')\n",
    "od15263=np.fromfile('p1526gOD3', sep=',')\n",
    "'''\n",
    "print(cfp15261.shape)\n",
    "print(rfp15261.shape)\n",
    "print(yfp15261.shape)\n",
    "print(od15261.shape)\n",
    "print(cfp15262.shape)\n",
    "print(rfp15262.shape)\n",
    "print(yfp15262.shape)\n",
    "print(od15262.shape)\n",
    "print(cfp15263.shape)\n",
    "print(rfp15263.shape)\n",
    "print(yfp15263.shape)\n",
    "print(od15263.shape)'''\n",
    "\n",
    "cfp15271=np.fromfile('p1527gCFP1', sep=',')\n",
    "rfp15271=np.fromfile('p1527gRFP1', sep=',')\n",
    "yfp15271=np.fromfile('p1527gYFP1', sep=',')\n",
    "od15271=np.fromfile('p1527gOD1', sep=',')\n",
    "cfp15272=np.fromfile('p1527gCFP2', sep=',')\n",
    "rfp15272=np.fromfile('p1527gRFP2', sep=',')\n",
    "yfp15272=np.fromfile('p1527gYFP2', sep=',')\n",
    "od15272=np.fromfile('p1527gOD2', sep=',')\n",
    "cfp15273=np.fromfile('p1527gCFP3', sep=',')\n",
    "rfp15273=np.fromfile('p1527gRFP3', sep=',')\n",
    "yfp15273=np.fromfile('p1527gYFP3', sep=',')\n",
    "od15273=np.fromfile('p1527gOD3', sep=',')\n",
    "\n",
    "'''\n",
    "print(cfp15271.shape)\n",
    "print(rfp15271.shape)\n",
    "print(yfp15271.shape)\n",
    "print(od15271.shape)\n",
    "print(cfp15272.shape)\n",
    "print(rfp15272.shape)\n",
    "print(yfp15272.shape)\n",
    "print(od15272.shape)\n",
    "print(cfp15273.shape)\n",
    "print(rfp15273.shape)\n",
    "print(yfp15273.shape)\n",
    "print(od15273.shape)'''\n",
    "\n",
    "#Controles\n",
    "#Promedios controles glucosa\n",
    "cfpcg1=np.fromfile('pcgCFP1', sep=',')\n",
    "rfpcg1=np.fromfile('pcgRFP1', sep=',')\n",
    "yfpcg1=np.fromfile('pcgYFP1', sep=',')\n",
    "odcg1=np.fromfile('pcgOD1', sep=',')\n",
    "cfpcg2=np.fromfile('pcgCFP2', sep=',')\n",
    "rfpcg2=np.fromfile('pcgRFP2', sep=',')\n",
    "yfpcg2=np.fromfile('pcgYFP2', sep=',')\n",
    "odcg2=np.fromfile ('pcgOD2',sep=',')\n",
    "cfpcg3=np.fromfile('pcgCFP3', sep=',')\n",
    "rfpcg3=np.fromfile('pcgRFP3', sep=',')\n",
    "yfpcg3=np.fromfile('pcgYFP3', sep=',')\n",
    "odcg3=np.fromfile('pcgOD3', sep=',')\n",
    "'''\n",
    "print(cfpcg1.shape)\n",
    "print(rfpcg1.shape)\n",
    "print(yfpcg1.shape)\n",
    "print(odcg1.shape)\n",
    "print(cfpcg1.shape)\n",
    "print(rfpcg1.shape)\n",
    "print(yfpcg1.shape)\n",
    "print(odcg1.shape)\n",
    "print(cfpcg1.shape)\n",
    "print(rfpcg1.shape)\n",
    "print(yfpcg1.shape)\n",
    "print(odcg1.shape)'''\n"
   ]
  },
  {
   "cell_type": "code",
   "execution_count": null,
   "metadata": {
    "collapsed": true
   },
   "outputs": [],
   "source": [
    "#Promedios glicerol\n",
    "#arrays replicas glucosa\n",
    "cfpsssg1=np.fromfile('psssglCFP1', sep=',')\n",
    "rfpsssg1=np.fromfile('psssglRFP1', sep=',')\n",
    "yfpsssg1=np.fromfile('psssglYFP1', sep=',')\n",
    "odsssg1=np.fromfile('psssglOD1', sep=',')\n",
    "cfpsssg2=np.fromfile('psssglCFP2', sep=',')\n",
    "rfpsssg2=np.fromfile('psssglRFP2', sep=',')\n",
    "yfpsssg2=np.fromfile('psssglYFP2', sep=',')\n",
    "odsssg2=np.fromfile('psssglOD2', sep=',')\n",
    "cfpsssg3=np.fromfile('psssglCFP3', sep=',')\n",
    "rfpsssg3=np.fromfile('psssglRFP3', sep=',')\n",
    "yfpsssg3=np.fromfile('psssglYFP3', sep=',')\n",
    "odsssg3=np.fromfile('psssglOD3', sep=',')\n",
    "'''\n",
    "print(cfpsssg1.shape)\n",
    "print(rfpsssg1.shape)\n",
    "print(yfpsssg1.shape)\n",
    "print(odsssg1.shape)\n",
    "print(cfpsssg2.shape)\n",
    "print(rfpsssg2.shape)\n",
    "print(yfpsssg2.shape)\n",
    "print(odsssg2.shape)\n",
    "print(cfpsssg3.shape)\n",
    "print(rfpsssg3.shape)\n",
    "print(yfpsssg3.shape)\n",
    "print(odsssg3.shape)'''\n",
    "\n",
    "cfppssg1=np.fromfile('ppssglCFP1', sep=',')\n",
    "rfppssg1=np.fromfile('ppssglRFP1', sep=',')\n",
    "yfppssg1=np.fromfile('ppssglYFP1', sep=',')\n",
    "odpssg1=np.fromfile('ppssglOD1', sep=',')\n",
    "cfppssg2=np.fromfile('ppssglCFP2', sep=',')\n",
    "rfppssg2=np.fromfile('ppssglRFP2', sep=',')\n",
    "yfppssg2=np.fromfile('ppssglYFP2', sep=',')\n",
    "odpssg2=np.fromfile('ppssglOD2', sep=',')\n",
    "cfppssg3=np.fromfile('ppssglCFP3', sep=',')\n",
    "rfppssg3=np.fromfile('ppssglRFP3', sep=',')\n",
    "yfppssg3=np.fromfile('ppssglYFP3', sep=',')\n",
    "odpssg3=np.fromfile('ppssglOD3', sep=',')\n",
    "'''\n",
    "print(cfppssg1.shape)\n",
    "print(rfppssg1.shape)\n",
    "print(yfppssg1.shape)\n",
    "print(odpssg1.shape)\n",
    "print(cfppssg2.shape)\n",
    "print(rfppssg2.shape)\n",
    "print(yfppssg2.shape)\n",
    "print(odpssg2.shape)\n",
    "print(cfppssg3.shape)\n",
    "print(rfppssg3.shape)\n",
    "print(yfppssg3.shape)\n",
    "print(odpssg3.shape)'''\n",
    "\n",
    "cfpptsg1=np.fromfile('pptsglCFP1', sep=',')\n",
    "rfpptsg1=np.fromfile('pptsglRFP1', sep=',')\n",
    "yfpptsg1=np.fromfile('pptsglYFP1', sep=',')\n",
    "odptsg1=np.fromfile('pptsglOD1', sep=',')\n",
    "cfpptsg2=np.fromfile('pptsglCFP2', sep=',')\n",
    "rfpptsg2=np.fromfile('pptsglRFP2', sep=',')\n",
    "yfpptsg2=np.fromfile('pptsglYFP2', sep=',')\n",
    "odptsg2=np.fromfile('pptsglOD2', sep=',')\n",
    "cfpptsg3=np.fromfile('pptsglCFP3', sep=',')\n",
    "rfpptsg3=np.fromfile('pptsglRFP3', sep=',')\n",
    "yfpptsg3=np.fromfile('pptsglYFP3', sep=',')\n",
    "odptsg3=np.fromfile('pptsglOD3', sep=',')\n",
    "\n",
    "'''\n",
    "print(cfpptsg1.shape)\n",
    "print(rfpptsg1.shape)\n",
    "print(yfpptsg1.shape)\n",
    "print(odptsg1.shape)\n",
    "print(cfpptsg2.shape)\n",
    "print(rfpptsg2.shape)\n",
    "print(yfpptsg2.shape)\n",
    "print(odptsg2.shape)\n",
    "print(cfpptsg3.shape)\n",
    "print(rfpptsg3.shape)\n",
    "print(yfpptsg3.shape)\n",
    "print(odptsg3.shape)'''\n",
    "\n",
    "cfpplsg1=np.fromfile('pplsglCFP1', sep=',')\n",
    "rfpplsg1=np.fromfile('pplsglRFP1', sep=',')\n",
    "yfpplsg1=np.fromfile('pplsglYFP1', sep=',')\n",
    "odplsg1=np.fromfile('pplsglOD1', sep=',')\n",
    "cfpplsg2=np.fromfile('pplsglCFP2', sep=',')\n",
    "rfpplsg2=np.fromfile('pplsglRFP2', sep=',')\n",
    "yfpplsg2=np.fromfile('pplsglYFP2', sep=',')\n",
    "odplsg2=np.fromfile('pplsglOD2', sep=',')\n",
    "cfpplsg3=np.fromfile('pplsglCFP3', sep=',')\n",
    "rfpplsg3=np.fromfile('pplsglRFP3', sep=',')\n",
    "yfpplsg3=np.fromfile('pplsglYFP3', sep=',')\n",
    "odplsg3=np.fromfile('pplsglOD3', sep=',')\n",
    "'''\n",
    "print(cfpplsg1.shape)\n",
    "print(rfpplsg1.shape)\n",
    "print(yfpplsg1.shape)\n",
    "print(odplsg1.shape)\n",
    "print(cfpplsg2.shape)\n",
    "print(rfpplsg2.shape)\n",
    "print(yfpplsg2.shape)\n",
    "print(odplsg2.shape)\n",
    "print(cfpplsg3.shape)\n",
    "print(rfpplsg3.shape)\n",
    "print(yfpplsg3.shape)\n",
    "print(odplsg3.shape)'''\n",
    "\n",
    "\n",
    "#Promedios controles glicerol\n",
    "cfpcgl1=np.fromfile('pcglCFP1', sep=',')\n",
    "rfpcgl1=np.fromfile('pcglRFP1', sep=',')\n",
    "yfpcgl1=np.fromfile('pcglYFP1', sep=',')\n",
    "odcgl1=np.fromfile('pcglOD1', sep=',')\n",
    "cfpcgl2=np.fromfile('pcglCFP2', sep=',')\n",
    "rfpcgl2=np.fromfile('pcglRFP2', sep=',')\n",
    "yfpcgl2=np.fromfile('pcglYFP2', sep=',')\n",
    "odcgl2=np.fromfile('pcglOD2', sep=',')\n",
    "cfpcgl3=np.fromfile('pcglCFP3', sep=',')\n",
    "rfpcgl3=np.fromfile('pcglRFP3', sep=',')\n",
    "yfpcgl3=np.fromfile('pcglYFP3', sep=',')\n",
    "odcgl3=np.fromfile('pcglOD3', sep=',')\n",
    "'''\n",
    "print(cfpcgl1.shape)\n",
    "print(rfpcgl1.shape)\n",
    "print(yfpcgl1.shape)\n",
    "print(odcgl1.shape)\n",
    "print(cfpcgl1.shape)\n",
    "print(rfpcgl1.shape)\n",
    "print(yfpcgl1.shape)\n",
    "print(odcgl1.shape)\n",
    "print(cfpcgl1.shape)\n",
    "print(rfpcgl1.shape)\n",
    "print(yfpcgl1.shape)\n",
    "print(odcgl1.shape)'''"
   ]
  },
  {
   "cell_type": "code",
   "execution_count": null,
   "metadata": {
    "collapsed": true
   },
   "outputs": [],
   "source": []
  },
  {
   "cell_type": "code",
   "execution_count": null,
   "metadata": {
    "collapsed": true
   },
   "outputs": [],
   "source": []
  },
  {
   "cell_type": "code",
   "execution_count": null,
   "metadata": {
    "collapsed": true
   },
   "outputs": [],
   "source": []
  },
  {
   "cell_type": "code",
   "execution_count": null,
   "metadata": {
    "collapsed": true
   },
   "outputs": [],
   "source": []
  },
  {
   "cell_type": "code",
   "execution_count": null,
   "metadata": {
    "collapsed": true
   },
   "outputs": [],
   "source": []
  },
  {
   "cell_type": "code",
   "execution_count": null,
   "metadata": {
    "collapsed": true
   },
   "outputs": [],
   "source": []
  },
  {
   "cell_type": "code",
   "execution_count": null,
   "metadata": {
    "collapsed": true
   },
   "outputs": [],
   "source": []
  },
  {
   "cell_type": "code",
   "execution_count": null,
   "metadata": {
    "collapsed": true
   },
   "outputs": [],
   "source": []
  },
  {
   "cell_type": "code",
   "execution_count": null,
   "metadata": {
    "collapsed": true
   },
   "outputs": [],
   "source": []
  },
  {
   "cell_type": "code",
   "execution_count": null,
   "metadata": {
    "collapsed": true
   },
   "outputs": [],
   "source": []
  },
  {
   "cell_type": "code",
   "execution_count": null,
   "metadata": {
    "collapsed": true
   },
   "outputs": [],
   "source": []
  },
  {
   "cell_type": "code",
   "execution_count": null,
   "metadata": {
    "collapsed": true
   },
   "outputs": [],
   "source": []
  },
  {
   "cell_type": "code",
   "execution_count": null,
   "metadata": {
    "collapsed": true
   },
   "outputs": [],
   "source": []
  },
  {
   "cell_type": "code",
   "execution_count": null,
   "metadata": {
    "collapsed": true
   },
   "outputs": [],
   "source": []
  },
  {
   "cell_type": "code",
   "execution_count": null,
   "metadata": {
    "collapsed": true
   },
   "outputs": [],
   "source": []
  },
  {
   "cell_type": "code",
   "execution_count": null,
   "metadata": {
    "collapsed": true
   },
   "outputs": [],
   "source": []
  },
  {
   "cell_type": "code",
   "execution_count": null,
   "metadata": {
    "collapsed": true
   },
   "outputs": [],
   "source": []
  }
 ],
 "metadata": {
  "kernelspec": {
   "display_name": "Python 3",
   "language": "python",
   "name": "python3"
  },
  "language_info": {
   "codemirror_mode": {
    "name": "ipython",
    "version": 3
   },
   "file_extension": ".py",
   "mimetype": "text/x-python",
   "name": "python",
   "nbconvert_exporter": "python",
   "pygments_lexer": "ipython3",
   "version": "3.6.0"
  }
 },
 "nbformat": 4,
 "nbformat_minor": 2
}
