{
 "cells": [
  {
   "cell_type": "code",
   "execution_count": 2,
   "metadata": {
    "collapsed": true
   },
   "outputs": [],
   "source": [
    "import numpy as np\n",
    "import matplotlib \n",
    "import matplotlib.pyplot as plt\n",
    "%matplotlib inline\n",
    "from matplotlib import colors\n",
    "from scipy.interpolate import UnivariateSpline\n",
    "from scipy.optimize import curve_fit\n",
    "from scipy import stats\n",
    "import seaborn as sns"
   ]
  },
  {
   "cell_type": "code",
   "execution_count": 15,
   "metadata": {
    "collapsed": false
   },
   "outputs": [
    {
     "data": {
      "text/plain": [
       "'\\nprint(cfpcg1.shape)\\nprint(rfpcg1.shape)\\nprint(yfpcg1.shape)\\nprint(odcg1.shape)\\nprint(cfpcg1.shape)\\nprint(rfpcg1.shape)\\nprint(yfpcg1.shape)\\nprint(odcg1.shape)\\nprint(cfpcg1.shape)\\nprint(rfpcg1.shape)\\nprint(yfpcg1.shape)\\nprint(odcg1.shape)'"
      ]
     },
     "execution_count": 15,
     "metadata": {},
     "output_type": "execute_result"
    }
   ],
   "source": [
    "tt=np.fromfile('t', sep=',')\n",
    "\n",
    "#arrays replicas glucosa\n",
    "cfp12211=np.fromfile('p1221gCFP1', sep=',')\n",
    "rfp12211=np.fromfile('p1221gRFP1', sep=',')\n",
    "yfp12211=np.fromfile('p1221gYFP1', sep=',')\n",
    "od12211=np.fromfile('p1221gOD1', sep=',')\n",
    "cfp12212=np.fromfile('p1221gCFP2', sep=',')\n",
    "rfp12212=np.fromfile('p1221gRFP2', sep=',')\n",
    "yfp12212=np.fromfile('p1221gYFP2', sep=',')\n",
    "od12212=np.fromfile('p1221gOD2', sep=',')\n",
    "cfp12213=np.fromfile('p1221gCFP3', sep=',')\n",
    "rfp12213=np.fromfile('p1221gRFP3', sep=',')\n",
    "yfp12213=np.fromfile('p1221gYFP3', sep=',')\n",
    "od12213=np.fromfile('p1221gOD3', sep=',')\n",
    "\n",
    "'''\n",
    "print(cfp12211.shape)\n",
    "print(rfp12211.shape)\n",
    "print(yfp12211.shape)\n",
    "print(od12211.shape)\n",
    "print(cfp12212.shape)\n",
    "print(rfp12212.shape)\n",
    "print(yfp12212.shape)\n",
    "print(od12212.shape)\n",
    "print(cfp12213.shape)\n",
    "print(rfp12213.shape)\n",
    "print(yfp12213.shape)\n",
    "print(od12213.shape)'''\n",
    "\n",
    "cfp12231=np.fromfile('p1223gCFP1', sep=',')\n",
    "rfp12231=np.fromfile('p1223gRFP1', sep=',')\n",
    "yfp12231=np.fromfile('p1223gYFP1', sep=',')\n",
    "od12231=np.fromfile('p1223gOD1', sep=',')\n",
    "cfp12232=np.fromfile('p1223gCFP2', sep=',')\n",
    "rfp12232=np.fromfile('p1223gRFP2', sep=',')\n",
    "yfp12232=np.fromfile('p1223gYFP2', sep=',')\n",
    "od12232=np.fromfile('p1223gOD2', sep=',')\n",
    "cfp12233=np.fromfile('p1223gCFP3', sep=',')\n",
    "rfp12233=np.fromfile('p1223gRFP3', sep=',')\n",
    "yfp12233=np.fromfile('p1223gYFP3', sep=',')\n",
    "od12233=np.fromfile('p1223gOD3', sep=',')\n",
    "\n",
    "'''\n",
    "print(cfp12231.shape)\n",
    "print(rfp12231.shape)\n",
    "print(yfp12231.shape)\n",
    "print(od12231.shape)\n",
    "print(cfp12232.shape)\n",
    "print(rfp12232.shape)\n",
    "print(yfp12232.shape)\n",
    "print(od12232.shape)\n",
    "print(cfp12233.shape)\n",
    "print(rfp12233.shape)\n",
    "print(yfp12233.shape)\n",
    "print(od12233.shape)'''\n",
    "\n",
    "cfp12261=np.fromfile('p1226gCFP1', sep=',')\n",
    "rfp12261=np.fromfile('p1226gRFP1', sep=',')\n",
    "yfp12261=np.fromfile('p1226gYFP1', sep=',')\n",
    "od12261=np.fromfile('p1226gOD1', sep=',')\n",
    "cfp12262=np.fromfile('p1226gCFP2', sep=',')\n",
    "rfp12262=np.fromfile('p1226gRFP2', sep=',')\n",
    "yfp12262=np.fromfile('p1226gYFP2', sep=',')\n",
    "od12262=np.fromfile('p1226gOD2', sep=',')\n",
    "cfp12263=np.fromfile('p1226gCFP3', sep=',')\n",
    "rfp12263=np.fromfile('p1226gRFP3', sep=',')\n",
    "yfp12263=np.fromfile('p1226gYFP3', sep=',')\n",
    "od12263=np.fromfile('p1226gOD3', sep=',')\n",
    "\n",
    "'''\n",
    "print(cfp12261.shape)\n",
    "print(rfp12261.shape)\n",
    "print(yfp12261.shape)\n",
    "print(od12261.shape)\n",
    "print(cfp12262.shape)\n",
    "print(rfp12262.shape)\n",
    "print(yfp12262.shape)\n",
    "print(od12262.shape)\n",
    "print(cfp12263.shape)\n",
    "print(rfp12263.shape)\n",
    "print(yfp12263.shape)\n",
    "print(od12263.shape)'''\n",
    "\n",
    "cfp12271=np.fromfile('p1227gCFP1', sep=',')\n",
    "rfp12271=np.fromfile('p1227gRFP1', sep=',')\n",
    "yfp12271=np.fromfile('p1227gYFP1', sep=',')\n",
    "od12271=np.fromfile('p1227gOD1', sep=',')\n",
    "cfp12272=np.fromfile('p1227gCFP2', sep=',')\n",
    "rfp12272=np.fromfile('p1227gRFP2', sep=',')\n",
    "yfp12272=np.fromfile('p1227gYFP2', sep=',')\n",
    "od12272=np.fromfile('p1227gOD2', sep=',')\n",
    "cfp12273=np.fromfile('p1227gCFP3', sep=',')\n",
    "rfp12273=np.fromfile('p1227gRFP3', sep=',')\n",
    "yfp12273=np.fromfile('p1227gYFP3', sep=',')\n",
    "od12273=np.fromfile('p1227gOD3', sep=',')\n",
    "\n",
    "'''\n",
    "print(cfp12271.shape)\n",
    "print(rfp12271.shape)\n",
    "print(yfp12271.shape)\n",
    "print(od12271.shape)\n",
    "print(cfp12272.shape)\n",
    "print(rfp12272.shape)\n",
    "print(yfp12272.shape)\n",
    "print(od12272.shape)\n",
    "print(cfp12273.shape)\n",
    "print(rfp12273.shape)\n",
    "print(yfp12273.shape)\n",
    "print(od12273.shape)'''\n",
    "\n",
    "#Controles\n",
    "#Promedios controles glucosa\n",
    "cfpcg1=np.fromfile('pcgCFP1', sep=',')\n",
    "rfpcg1=np.fromfile('pcgRFP1', sep=',')\n",
    "yfpcg1=np.fromfile('pcgYFP1', sep=',')\n",
    "odcg1=np.fromfile('pcgOD1', sep=',')\n",
    "cfpcg2=np.fromfile('pcgCFP2', sep=',')\n",
    "rfpcg2=np.fromfile('pcgRFP2', sep=',')\n",
    "yfpcg2=np.fromfile('pcgYFP2', sep=',')\n",
    "odcg2=np.fromfile ('pcgOD2',sep=',')\n",
    "cfpcg3=np.fromfile('pcgCFP3', sep=',')\n",
    "rfpcg3=np.fromfile('pcgRFP3', sep=',')\n",
    "yfpcg3=np.fromfile('pcgYFP3', sep=',')\n",
    "odcg3=np.fromfile('pcgOD3', sep=',')\n",
    "'''\n",
    "print(cfpcg1.shape)\n",
    "print(rfpcg1.shape)\n",
    "print(yfpcg1.shape)\n",
    "print(odcg1.shape)\n",
    "print(cfpcg1.shape)\n",
    "print(rfpcg1.shape)\n",
    "print(yfpcg1.shape)\n",
    "print(odcg1.shape)\n",
    "print(cfpcg1.shape)\n",
    "print(rfpcg1.shape)\n",
    "print(yfpcg1.shape)\n",
    "print(odcg1.shape)'''\n"
   ]
  },
  {
   "cell_type": "code",
   "execution_count": 23,
   "metadata": {
    "collapsed": false
   },
   "outputs": [
    {
     "data": {
      "text/plain": [
       "'\\nprint(cfpcgl1.shape)\\nprint(rfpcgl1.shape)\\nprint(yfpcgl1.shape)\\nprint(odcgl1.shape)\\nprint(cfpcgl1.shape)\\nprint(rfpcgl1.shape)\\nprint(yfpcgl1.shape)\\nprint(odcgl1.shape)\\nprint(cfpcgl1.shape)\\nprint(rfpcgl1.shape)\\nprint(yfpcgl1.shape)\\nprint(odcgl1.shape)'"
      ]
     },
     "execution_count": 23,
     "metadata": {},
     "output_type": "execute_result"
    }
   ],
   "source": [
    "#Promedios glicerol\n",
    "#arrays replicas glucosa\n",
    "cfp1221g1=np.fromfile('p1221glCFP1', sep=',')\n",
    "rfp1221g1=np.fromfile('p1221glRFP1', sep=',')\n",
    "yfp1221g1=np.fromfile('p1221glYFP1', sep=',')\n",
    "od1221g1=np.fromfile('p1221glOD1', sep=',')\n",
    "cfp1221g2=np.fromfile('p1221glCFP2', sep=',')\n",
    "rfp1221g2=np.fromfile('p1221glRFP2', sep=',')\n",
    "yfp1221g2=np.fromfile('p1221glYFP2', sep=',')\n",
    "od1221g2=np.fromfile('p1221glOD2', sep=',')\n",
    "cfp1221g3=np.fromfile('p1221glCFP3', sep=',')\n",
    "rfp1221g3=np.fromfile('p1221glRFP3', sep=',')\n",
    "yfp1221g3=np.fromfile('p1221glYFP3', sep=',')\n",
    "od1221g3=np.fromfile('p1221glOD3', sep=',')\n",
    "'''\n",
    "print(cfp1221g1.shape)\n",
    "print(rfp1221g1.shape)\n",
    "print(yfp1221g1.shape)\n",
    "print(od1221g1.shape)\n",
    "print(cfp1221g2.shape)\n",
    "print(rfp1221g2.shape)\n",
    "print(yfp1221g2.shape)\n",
    "print(od1221g2.shape)\n",
    "print(cfp1221g3.shape)\n",
    "print(rfp1221g3.shape)\n",
    "print(yfp1221g3.shape)\n",
    "print(od1221g3.shape)'''\n",
    "\n",
    "\n",
    "cfp1223g1=np.fromfile('p1223glCFP1', sep=',')\n",
    "rfp1223g1=np.fromfile('p1223glRFP1', sep=',')\n",
    "yfp1223g1=np.fromfile('p1223glYFP1', sep=',')\n",
    "od1223g1=np.fromfile('p1223glOD1', sep=',')\n",
    "cfp1223g2=np.fromfile('p1223glCFP2', sep=',')\n",
    "rfp1223g2=np.fromfile('p1223glRFP2', sep=',')\n",
    "yfp1223g2=np.fromfile('p1223glYFP2', sep=',')\n",
    "od1223g2=np.fromfile('p1223glOD2', sep=',')\n",
    "cfp1223g3=np.fromfile('p1223glCFP3', sep=',')\n",
    "rfp1223g3=np.fromfile('p1223glRFP3', sep=',')\n",
    "yfp1223g3=np.fromfile('p1223glYFP3', sep=',')\n",
    "od1223g3=np.fromfile('p1223glOD3', sep=',')\n",
    "'''\n",
    "print(cfp1223g1.shape)\n",
    "print(rfp1223g1.shape)\n",
    "print(yfp1223g1.shape)\n",
    "print(od1223g1.shape)\n",
    "print(cfp1223g2.shape)\n",
    "print(rfp1223g2.shape)\n",
    "print(yfp1223g2.shape)\n",
    "print(od1223g2.shape)\n",
    "print(cfp1223g3.shape)\n",
    "print(rfp1223g3.shape)\n",
    "print(yfp1223g3.shape)\n",
    "print(od1223g3.shape)'''\n",
    "\n",
    "\n",
    "cfp1226g1=np.fromfile('p1226glCFP1', sep=',')\n",
    "rfp1226g1=np.fromfile('p1226glRFP1', sep=',')\n",
    "yfp1226g1=np.fromfile('p1226glYFP1', sep=',')\n",
    "od1226g1=np.fromfile('p1226glOD1', sep=',')\n",
    "cfp1226g2=np.fromfile('p1226glCFP2', sep=',')\n",
    "rfp1226g2=np.fromfile('p1226glRFP2', sep=',')\n",
    "yfp1226g2=np.fromfile('p1226glYFP2', sep=',')\n",
    "od1226g2=np.fromfile('p1226glOD2', sep=',')\n",
    "cfp1226g3=np.fromfile('p1226glCFP3', sep=',')\n",
    "rfp1226g3=np.fromfile('p1226glRFP3', sep=',')\n",
    "yfp1226g3=np.fromfile('p1226glYFP3', sep=',')\n",
    "od1226g3=np.fromfile('p1226glOD3', sep=',')\n",
    "\n",
    "'''\n",
    "print(cfp1226g1.shape)\n",
    "print(rfp1226g1.shape)\n",
    "print(yfp1226g1.shape)\n",
    "print(od1226g1.shape)\n",
    "print(cfp1226g2.shape)\n",
    "print(rfp1226g2.shape)\n",
    "print(yfp1226g2.shape)\n",
    "print(od1226g2.shape)\n",
    "print(cfp1226g3.shape)\n",
    "print(rfp1226g3.shape)\n",
    "print(yfp1226g3.shape)\n",
    "print(od1226g3.shape)'''\n",
    "\n",
    "cfp1227g1=np.fromfile('p1227glCFP1', sep=',')\n",
    "rfp1227g1=np.fromfile('p1227glRFP1', sep=',')\n",
    "yfp1227g1=np.fromfile('p1227glYFP1', sep=',')\n",
    "od1227g1=np.fromfile('p1227glOD1', sep=',')\n",
    "cfp1227g2=np.fromfile('p1227glCFP2', sep=',')\n",
    "rfp1227g2=np.fromfile('p1227glRFP2', sep=',')\n",
    "yfp1227g2=np.fromfile('p1227glYFP2', sep=',')\n",
    "od1227g2=np.fromfile('p1227glOD2', sep=',')\n",
    "cfp1227g3=np.fromfile('p1227glCFP3', sep=',')\n",
    "rfp1227g3=np.fromfile('p1227glRFP3', sep=',')\n",
    "yfp1227g3=np.fromfile('p1227glYFP3', sep=',')\n",
    "od1227g3=np.fromfile('p1227glOD3', sep=',')\n",
    "\n",
    "'''\n",
    "print(cfp1227g1.shape)\n",
    "print(rfp1227g1.shape)\n",
    "print(yfp1227g1.shape)\n",
    "print(od1227g1.shape)\n",
    "print(cfp1227g2.shape)\n",
    "print(rfp1227g2.shape)\n",
    "print(yfp1227g2.shape)\n",
    "print(od1227g2.shape)\n",
    "print(cfp1227g3.shape)\n",
    "print(rfp1227g3.shape)\n",
    "print(yfp1227g3.shape)\n",
    "print(od1227g3.shape)'''\n",
    "\n",
    "\n",
    "#Promedios controles glicerol\n",
    "cfpcgl1=np.fromfile('pcglCFP1', sep=',')\n",
    "rfpcgl1=np.fromfile('pcglRFP1', sep=',')\n",
    "yfpcgl1=np.fromfile('pcglYFP1', sep=',')\n",
    "odcgl1=np.fromfile('pcglOD1', sep=',')\n",
    "cfpcgl2=np.fromfile('pcglCFP2', sep=',')\n",
    "rfpcgl2=np.fromfile('pcglRFP2', sep=',')\n",
    "yfpcgl2=np.fromfile('pcglYFP2', sep=',')\n",
    "odcgl2=np.fromfile('pcglOD2', sep=',')\n",
    "cfpcgl3=np.fromfile('pcglCFP3', sep=',')\n",
    "rfpcgl3=np.fromfile('pcglRFP3', sep=',')\n",
    "yfpcgl3=np.fromfile('pcglYFP3', sep=',')\n",
    "odcgl3=np.fromfile('pcglOD3', sep=',')\n",
    "'''\n",
    "print(cfpcgl1.shape)\n",
    "print(rfpcgl1.shape)\n",
    "print(yfpcgl1.shape)\n",
    "print(odcgl1.shape)\n",
    "print(cfpcgl1.shape)\n",
    "print(rfpcgl1.shape)\n",
    "print(yfpcgl1.shape)\n",
    "print(odcgl1.shape)\n",
    "print(cfpcgl1.shape)\n",
    "print(rfpcgl1.shape)\n",
    "print(yfpcgl1.shape)\n",
    "print(odcgl1.shape)'''"
   ]
  },
  {
   "cell_type": "code",
   "execution_count": 24,
   "metadata": {
    "collapsed": true
   },
   "outputs": [],
   "source": [
    "#Funciones para ajuste Gompertz\n",
    "def F_sigma(t, A, um,l):\n",
    "    return ((A*np.exp(-np.exp((((um*np.exp(1))/A)*(l-t))+1))))\n",
    "\n",
    "def Function_fit(xdata,ydata,init,end,func=F_sigma,ParamBounds=([0,0,0],[3,1,300]), title = 'Curve Fitting'):\n",
    "        Y_fit={}\n",
    "\n",
    "        z,_=curve_fit(func,xdata[init:end], ydata[init:end],bounds=ParamBounds)\n",
    "\n",
    "        print(z)\n",
    "\n",
    "        evalF=func(xdata,z[0],z[1],z[2])\n",
    "        \n",
    "        plt.figure()\n",
    "        plt.plot(xdata, ydata, '.',label='OD')\n",
    "        plt.plot(xdata, evalF, '-',label='Ajuste')\n",
    "        plt.grid(color='lightgray', linestyle='-', linewidth=0.5)\n",
    "        plt.title(title)\n",
    "        plt.ylabel('Abs(nm)')\n",
    "        plt.xlabel('Tiempo(min)')\n",
    "        lgd=plt.legend(loc='lower right')      \n",
    "        plt.show()\n",
    "\n",
    "        Y_fit=evalF,z\n",
    "        \n",
    "        return(Y_fit)\n",
    "        \n",
    "       "
   ]
  },
  {
   "cell_type": "code",
   "execution_count": 25,
   "metadata": {
    "collapsed": false
   },
   "outputs": [
    {
     "name": "stdout",
     "output_type": "stream",
     "text": [
      "Min OD = 8.525000e-02\n",
      "[  2.21400213e+00   9.27035018e-03   1.61117814e+02]\n"
     ]
    },
    {
     "data": {
      "image/png": "[encoded data removed]",
      "text/plain": [
       "<matplotlib.figure.Figure at 0x1c74ce53240>"
      ]
     },
     "metadata": {},
     "output_type": "display_data"
    },
    {
     "name": "stdout",
     "output_type": "stream",
     "text": [
      "A=2.214002e+00\n",
      "um=9.270350e-03\n",
      "l=1.611178e+02\n",
      "Tm=2.489770e+02\n",
      "doubpe=7.477033e+01\n",
      "ext=1.495407e+02\n",
      "Tfinal=3.985177e+02\n"
     ]
    },
    {
     "data": {
      "text/plain": [
       "<matplotlib.legend.Legend at 0x1c74cea02b0>"
      ]
     },
     "execution_count": 25,
     "metadata": {},
     "output_type": "execute_result"
    },
    {
     "data": {
      "image/png": "[encoded data removed]",
      "text/plain": [
       "<matplotlib.figure.Figure at 0x1c74bb46c88>"
      ]
     },
     "metadata": {},
     "output_type": "display_data"
    },
    {
     "data": {
      "image/png": "[encoded data removed]",
      "text/plain": [
       "<matplotlib.figure.Figure at 0x1c74bc465c0>"
      ]
     },
     "metadata": {},
     "output_type": "display_data"
    }
   ],
   "source": [
    "#Ajuste de datos con modelo Gompertz y obtención de parámetros para el ajuste\n",
    "#control glucosa rep 1\n",
    "y1 = np.log(odcg1)-np.log(np.min(odcg1))\n",
    "print('Min OD = %e'%((np.min(odcg1))))\n",
    "evaly, params=Function_fit(tt,y1,0,-1,title = 'Ajuste control glucosa 0,4% E3R1')\n",
    "A1 = params[0]\n",
    "um1=params[1]\n",
    "l1=params[2]\n",
    "print('A=%e'%(A1))\n",
    "print('um=%e'%(um1))\n",
    "print('l=%e'%(l1))\n",
    "\n",
    "#Cálculo datos para determinar extensión de la fase exponencial\n",
    "tm1=((A1/(np.exp(1)*um1))+l1)\n",
    "print('Tm=%e'%(tm1))\n",
    "t21=((np.log(2))/um1)\n",
    "print('doubpe=%e'%(t21))\n",
    "extdp1=2*t21\n",
    "print('ext=%e'%extdp1)\n",
    "ttot1=tm1+extdp1\n",
    "print('Tfinal=%e'%ttot1)\n",
    "\n",
    "#Delimitación fase exponencial en grafico con OD/tiempo \n",
    "y1=tt[16]\n",
    "y2=tt[25]\n",
    "plt.figure()\n",
    "plt.title('Control Glucosa 0,4% E3R1')\n",
    "plt.xlabel('Tiempo(min)')\n",
    "plt.ylabel('Abs(nm)')\n",
    "plt.plot(tt,odcg1,label='OD control E3R1 ')\n",
    "plt.axvspan(y1,y2, color='lightblue', alpha=0.5)\n",
    "plt.grid(color='lightgray', linestyle='-', linewidth=0.5)\n",
    "plt.legend(loc='lower right')\n",
    "\n",
    "#Fase exponencial OD/tiempo\n",
    "plt.figure()\n",
    "plt.title('Fase exponencial OD E3R1')\n",
    "plt.xlabel('Tiempo(min)')\n",
    "plt.ylabel('Abs(nm)')\n",
    "plt.plot(tt[16:26],odcg1[16:26],label='OD control E3R1')\n",
    "plt.grid(color='lightgray', linestyle='-', linewidth=0.5)\n",
    "plt.legend(loc='lower right')"
   ]
  },
  {
   "cell_type": "code",
   "execution_count": null,
   "metadata": {
    "collapsed": true
   },
   "outputs": [],
   "source": []
  },
  {
   "cell_type": "code",
   "execution_count": null,
   "metadata": {
    "collapsed": true
   },
   "outputs": [],
   "source": []
  },
  {
   "cell_type": "code",
   "execution_count": null,
   "metadata": {
    "collapsed": true
   },
   "outputs": [],
   "source": []
  },
  {
   "cell_type": "code",
   "execution_count": null,
   "metadata": {
    "collapsed": true
   },
   "outputs": [],
   "source": []
  },
  {
   "cell_type": "code",
   "execution_count": null,
   "metadata": {
    "collapsed": true
   },
   "outputs": [],
   "source": []
  },
  {
   "cell_type": "code",
   "execution_count": null,
   "metadata": {
    "collapsed": true
   },
   "outputs": [],
   "source": []
  },
  {
   "cell_type": "code",
   "execution_count": null,
   "metadata": {
    "collapsed": true
   },
   "outputs": [],
   "source": []
  },
  {
   "cell_type": "code",
   "execution_count": null,
   "metadata": {
    "collapsed": true
   },
   "outputs": [],
   "source": []
  },
  {
   "cell_type": "code",
   "execution_count": null,
   "metadata": {
    "collapsed": true
   },
   "outputs": [],
   "source": []
  },
  {
   "cell_type": "code",
   "execution_count": null,
   "metadata": {
    "collapsed": true
   },
   "outputs": [],
   "source": []
  },
  {
   "cell_type": "code",
   "execution_count": null,
   "metadata": {
    "collapsed": true
   },
   "outputs": [],
   "source": []
  },
  {
   "cell_type": "code",
   "execution_count": null,
   "metadata": {
    "collapsed": true
   },
   "outputs": [],
   "source": []
  },
  {
   "cell_type": "code",
   "execution_count": null,
   "metadata": {
    "collapsed": true
   },
   "outputs": [],
   "source": []
  },
  {
   "cell_type": "code",
   "execution_count": null,
   "metadata": {
    "collapsed": true
   },
   "outputs": [],
   "source": []
  },
  {
   "cell_type": "code",
   "execution_count": null,
   "metadata": {
    "collapsed": true
   },
   "outputs": [],
   "source": []
  },
  {
   "cell_type": "code",
   "execution_count": null,
   "metadata": {
    "collapsed": true
   },
   "outputs": [],
   "source": []
  },
  {
   "cell_type": "code",
   "execution_count": null,
   "metadata": {
    "collapsed": true
   },
   "outputs": [],
   "source": []
  },
  {
   "cell_type": "code",
   "execution_count": null,
   "metadata": {
    "collapsed": true
   },
   "outputs": [],
   "source": []
  },
  {
   "cell_type": "code",
   "execution_count": null,
   "metadata": {
    "collapsed": true
   },
   "outputs": [],
   "source": []
  },
  {
   "cell_type": "code",
   "execution_count": null,
   "metadata": {
    "collapsed": true
   },
   "outputs": [],
   "source": []
  },
  {
   "cell_type": "code",
   "execution_count": null,
   "metadata": {
    "collapsed": true
   },
   "outputs": [],
   "source": []
  },
  {
   "cell_type": "code",
   "execution_count": null,
   "metadata": {
    "collapsed": true
   },
   "outputs": [],
   "source": []
  },
  {
   "cell_type": "code",
   "execution_count": null,
   "metadata": {
    "collapsed": true
   },
   "outputs": [],
   "source": []
  },
  {
   "cell_type": "code",
   "execution_count": null,
   "metadata": {
    "collapsed": true
   },
   "outputs": [],
   "source": []
  },
  {
   "cell_type": "code",
   "execution_count": null,
   "metadata": {
    "collapsed": true
   },
   "outputs": [],
   "source": []
  },
  {
   "cell_type": "code",
   "execution_count": null,
   "metadata": {
    "collapsed": true
   },
   "outputs": [],
   "source": []
  },
  {
   "cell_type": "code",
   "execution_count": null,
   "metadata": {
    "collapsed": true
   },
   "outputs": [],
   "source": []
  },
  {
   "cell_type": "code",
   "execution_count": null,
   "metadata": {
    "collapsed": true
   },
   "outputs": [],
   "source": []
  },
  {
   "cell_type": "code",
   "execution_count": null,
   "metadata": {
    "collapsed": true
   },
   "outputs": [],
   "source": []
  },
  {
   "cell_type": "code",
   "execution_count": null,
   "metadata": {
    "collapsed": true
   },
   "outputs": [],
   "source": []
  },
  {
   "cell_type": "code",
   "execution_count": null,
   "metadata": {
    "collapsed": true
   },
   "outputs": [],
   "source": []
  },
  {
   "cell_type": "code",
   "execution_count": null,
   "metadata": {
    "collapsed": true
   },
   "outputs": [],
   "source": []
  },
  {
   "cell_type": "code",
   "execution_count": null,
   "metadata": {
    "collapsed": true
   },
   "outputs": [],
   "source": []
  },
  {
   "cell_type": "code",
   "execution_count": null,
   "metadata": {
    "collapsed": true
   },
   "outputs": [],
   "source": []
  }
 ],
 "metadata": {
  "kernelspec": {
   "display_name": "Python 3",
   "language": "python",
   "name": "python3"
  },
  "language_info": {
   "codemirror_mode": {
    "name": "ipython",
    "version": 3
   },
   "file_extension": ".py",
   "mimetype": "text/x-python",
   "name": "python",
   "nbconvert_exporter": "python",
   "pygments_lexer": "ipython3",
   "version": "3.6.0"
  }
 },
 "nbformat": 4,
 "nbformat_minor": 2
}
