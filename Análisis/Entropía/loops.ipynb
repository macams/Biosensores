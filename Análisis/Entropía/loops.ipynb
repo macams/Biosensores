{
 "cells": [
  {
   "cell_type": "code",
   "execution_count": null,
   "metadata": {
    "collapsed": true
   },
   "outputs": [],
   "source": [
    "import flapjack\n",
    "from flapjack import registry as reg\n",
    "import matplotlib.pyplot as plt\n",
    "import pandas as pd\n",
    "import seaborn as sns\n",
    "import numpy as np\n",
    "%matplotlib inline\n",
    "from matplotlib import colors"
   ]
  },
  {
   "cell_type": "code",
   "execution_count": null,
   "metadata": {
    "collapsed": true
   },
   "outputs": [],
   "source": [
    "registry = reg.Registry(database_name='data', username='maca', password='macata125')"
   ]
  },
  {
   "cell_type": "code",
   "execution_count": null,
   "metadata": {
    "collapsed": true
   },
   "outputs": [],
   "source": [
    "#Plásmidos \n",
    "stdstd = registry.get_plasmid('std:RFP/std:YFP/std:CFP')\n",
    "pluxstd1= registry.get_plasmid('pLux76:RFP/std:YFP/std:CFP')\n",
    "pluxptet= registry.get_plasmid('pLux76:RFP/pTet:YFP/std:CFP')\n",
    "pluxplac1= registry.get_plasmid('pLux76:RFP/pLacI:YFP/std:CFP')\n",
    "\n",
    "ptetstd = registry.get_plasmid('pTet:RFP/std:YFP/std:CFP')\n",
    "ptet107= registry.get_plasmid('pTet:RFP/J23107:YFP/std:CFP')\n",
    "ptetplac= registry.get_plasmid('pTet:RFP/pLacI:YFP/std:CFP')\n",
    "ptetplas= registry.get_plasmid('pTet:RFP/pLas81:YFP/std:CFP')\n",
    "\n",
    "pluxstd3= registry.get_plasmid('pLux76:RFP/std:YFP/std:CFP')\n",
    "plux107= registry.get_plasmid('pLux76:RFP/J23107:YFP/std:CFP')\n",
    "pluxplac3= registry.get_plasmid('pLux76:RFP/pLacI:YFP/std:CFP')\n",
    "pluxplas= registry.get_plasmid('pLux76:RFP/pLas81:YFP/std:CFP')\n",
    "\n",
    "j106std = registry.get_plasmid('J23106:RFP/std:YFP/std:CFP')\n",
    "j106107 = registry.get_plasmid('J23106:RFP/J23107:YFP/std:CFP')\n",
    "j106plac= registry.get_plasmid('J23106:RFP/pLacI:YFP/std:CFP')\n",
    "j106plas= registry.get_plasmid('J23106:RFP/pLas81:YFP/std:CFP')\n",
    "\n",
    "#Plasmids=[stdstd,pluxstd1,pluxptet,pluxplac1,ptetstd,ptet107,ptetplac,ptetplas,pluxstd3,plux107,pluxplac3,pluxplas,j106std,j106107,j106plac,j106plas]\n",
    "Plasmids={'stdstd':stdstd,'pluxstd1':pluxstd1,'pluxptet':pluxptet,'pluxplac1':pluxplac1,'ptetstd':ptetstd,'ptet107':ptet107,'ptetplac':ptetplac,'ptetplas':ptetplas,'pluxstd3':pluxstd3,'plux107':plux107,'pluxplac3':pluxplac3,'pluxplas':pluxplas,'j106std':j106std,'j106107':j106107,'j106plac':j106plac,'j106plas':j106plas}\n",
    "\n"
   ]
  },
  {
   "cell_type": "code",
   "execution_count": null,
   "metadata": {
    "collapsed": true
   },
   "outputs": [],
   "source": [
    "yfp_glu=[]\n",
    "rfp_glu=[]\n",
    "cfp_glu=[]\n",
    "od_glu=[]\n",
    "yfp_gli=[]\n",
    "rfp_gli=[]\n",
    "cfp_gli=[]\n",
    "od_gli=[]"
   ]
  },
  {
   "cell_type": "code",
   "execution_count": null,
   "metadata": {
    "collapsed": true
   },
   "outputs": [],
   "source": [
    "for p in Plasmids:\n",
    "    i=Plasmids.values()\n",
    "    q=Plasmids.keys()\n",
    "    for v in i:\n",
    "        yfp_glu= v[(v.measurements_name=='RFP-YFP:500/27,540/25')&(v.samples_media=='M9-glucosa')]\n",
    "        yfpglu.append()\n",
    "        rfp_glu = v[(v.measurements_name=='RFP-YFP:585/10,620/15')&(v.samples_media=='M9-glucosa')]\n",
    "        cfp_glu = v[(v.measurements_name=='CFP:420/50,485/20')&(v.samples_media=='M9-glucosa')]\n",
    "        od_glu= v[(v.measurements_name=='OD600:600')&(v.samples_media=='M9-glucosa')]\n",
    "        yfp_gli= v[(v.measurements_name=='RFP-YFP:500/27,540/25')&(v.samples_media=='M9-glicerol')]\n",
    "        rfp_gli= v[(v.measurements_name=='RFP-YFP:585/10,620/15')&(v.samples_media=='M9-glicerol')]\n",
    "        cfp_gli= v[(v.measurements_name=='CFP:420/50,485/20')&(v.samples_media=='M9-glicerol')]\n",
    "        od_gli= v[(v.measurements_name=='OD600:600')&(v.samples_media=='M9-glicerol')]\n",
    "        \n",
    "        for x in q:\n",
    "            print x,yfp_glu\n",
    "            print x,rfp_glu\n",
    "            print x,cfp_glu\n",
    "            print x,od_glu\n",
    "            print x,yfp_gli\n",
    "            print x,rfp_gli\n",
    "            print x,cfp_gli\n",
    "            print x,od_gli"
   ]
  },
  {
   "cell_type": "code",
   "execution_count": null,
   "metadata": {
    "collapsed": true
   },
   "outputs": [],
   "source": [
    "#Std-Std-Std glucosa\n",
    "ayglu=ayfp_glu['measurements_value'].values\n",
    "arglu=arfp_glu['measurements_value'].values  \n",
    "acglu=acfp_glu['measurements_value'].values\n",
    "aoglu=aod_glu['measurements_value'].values"
   ]
  },
  {
   "cell_type": "code",
   "execution_count": null,
   "metadata": {
    "collapsed": true
   },
   "outputs": [],
   "source": [
    "dy1=np.diff(ayglu)\n",
    "dr1=np.diff(arglu)\n",
    "dc1=np.diff(acglu)"
   ]
  },
  {
   "cell_type": "code",
   "execution_count": null,
   "metadata": {
    "collapsed": true
   },
   "outputs": [],
   "source": [
    "import numpy as np\n",
    "\n",
    "nb = 84\n",
    "\n",
    "def entropy(density):\n",
    "    nzs = np.where(density>0)\n",
    "    return -np.sum(density[nzs]*np.log2(density[nzs].ravel()))\n",
    "\n",
    "def joint_entropy(density2d):\n",
    "    nzs = np.where(density2d>0)\n",
    "    return -np.sum(density2d[nzs].ravel()*np.log2(density2d[nzs].ravel()))\n",
    "    \n",
    "def conditional_entropy(density2d):\n",
    "    # conditional on the first variable (X), i.e. H(Y|X)\n",
    "    density = np.sum(density2d, axis=1)\n",
    "    ex = entropy(density)\n",
    "    je = joint_entropy(density2d)\n",
    "    # H(Y|X) = H(X,Y) - H(X)\n",
    "    return je-ex\n",
    "\n",
    "def mutual_information(density2d):\n",
    "    # H(Y)\n",
    "    density = np.sum(density2d, axis=0)\n",
    "    # I(X,Y) = H(Y) - H(Y|X)\n",
    "    return entropy(density)-conditional_entropy(density2d)\n",
    "\n",
    "def prob_density(x, nbins=nb):\n",
    "    H, edges = np.histogram(x.ravel(), nbins)\n",
    "    H = H.astype(np.float32)\n",
    "    return H/np.sum(H.ravel())\n",
    "\n",
    "def prob_density2d(x, y, nbins=nb):\n",
    "    H, xedges, yedges = np.histogram2d(x.ravel(), y.ravel(), [nbins,nbins])\n",
    "    H = H.astype(np.float32)\n",
    "    return H/np.sum(H.ravel())\n",
    "\n",
    "def prob_density3d(x, y, z, nbins=nb):\n",
    "    H, edges = np.histogramdd([x.ravel(), y.ravel(), z.ravel()], [nbins,nbins,nbins])\n",
    "    H = H.astype(np.float32)\n",
    "    return H/np.sum(H.ravel())\n",
    "\n",
    "def prob_density4d(x, y, z, w, nbins=nb):\n",
    "    H, edges = np.histogramdd([x.ravel(), y.ravel(), z.ravel(), w.ravel()], [nbins,nbins,nbins,nbins])\n",
    "    H = H.astype(np.float32)\n",
    "    return H/np.sum(H.ravel())"
   ]
  },
  {
   "cell_type": "code",
   "execution_count": null,
   "metadata": {
    "collapsed": true
   },
   "outputs": [],
   "source": []
  },
  {
   "cell_type": "code",
   "execution_count": null,
   "metadata": {
    "collapsed": true
   },
   "outputs": [],
   "source": []
  }
 ],
 "metadata": {
  "kernelspec": {
   "display_name": "Python 2",
   "language": "python",
   "name": "python2"
  },
  "language_info": {
   "codemirror_mode": {
    "name": "ipython",
    "version": 2
   },
   "file_extension": ".py",
   "mimetype": "text/x-python",
   "name": "python",
   "nbconvert_exporter": "python",
   "pygments_lexer": "ipython2",
   "version": "2.7.14"
  }
 },
 "nbformat": 4,
 "nbformat_minor": 2
}
