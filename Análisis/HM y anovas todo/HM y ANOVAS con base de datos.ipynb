{
 "cells": [
  {
   "cell_type": "code",
   "execution_count": 1,
   "metadata": {
    "collapsed": true
   },
   "outputs": [],
   "source": [
    "import flapjack\n",
    "from flapjack import registry as reg\n",
    "from flapjack import analysis as analysis\n",
    "from flapjack import tables as tables\n",
    "import matplotlib.pyplot as plt\n",
    "import pandas as pd\n",
    "import pandas.io.sql as psql\n",
    "import numpy as np\n",
    "import scipy\n",
    "from scipy.optimize import curve_fit\n",
    "%matplotlib inline\n",
    "from matplotlib import colors"
   ]
  },
  {
   "cell_type": "code",
   "execution_count": 2,
   "metadata": {
    "collapsed": true
   },
   "outputs": [],
   "source": [
    "registry = reg.Registry(database_name='data', username='maca', password='macata125')"
   ]
  },
  {
   "cell_type": "code",
   "execution_count": 4,
   "metadata": {
    "collapsed": true
   },
   "outputs": [],
   "source": [
    "qall = registry.queryAll()\n",
    "qexp1= qall.filter((tables.samples.experiment_id==5)|(tables.samples.experiment_id==6)|(tables.samples.experiment_id==7))\n",
    "qexp2= qall.filter((tables.samples.experiment_id==8)|(tables.samples.experiment_id==9)|(tables.samples.experiment_id==10))\n",
    "qexp3= qall.filter((tables.samples.experiment_id==11)|(tables.samples.experiment_id==12)|(tables.samples.experiment_id==13))\n",
    "qexp4= qall.filter((tables.samples.experiment_id==14)|(tables.samples.experiment_id==15)|(tables.samples.experiment_id==16))\n",
    "\n",
    "dfexp1=psql.read_sql_query(qexp1.selectable, registry.engine)\n",
    "dfexp2=psql.read_sql_query(qexp2.selectable, registry.engine)\n",
    "dfexp3=psql.read_sql_query(qexp3.selectable, registry.engine)\n",
    "dfexp4=psql.read_sql_query(qexp4.selectable, registry.engine)"
   ]
  },
  {
   "cell_type": "code",
   "execution_count": 6,
   "metadata": {},
   "outputs": [
    {
     "name": "stdout",
     "output_type": "stream",
     "text": [
      "[u'std:RFP/std:YFP/std:CFP' u'pLux76:RFP/std:YFP/std:CFP'\n",
      " u'pLux76:RFP/pTet:YFP/std:CFP' u'pLux76:RFP/pLacI:YFP/std:CFP']\n",
      "[u'pTet:RFP/std:YFP/std:CFP' u'pTet:RFP/J23107:YFP/std:CFP'\n",
      " u'pTet:RFP/pLacI:YFP/std:CFP' u'pTet:RFP/pLas81:YFP/std:CFP']\n",
      "[u'pLux76:RFP/std:YFP/std:CFP' u'pLux76:RFP/J23107:YFP/std:CFP'\n",
      " u'pLux76:RFP/pLacI:YFP/std:CFP' u'pLux76:RFP/pLas81:YFP/std:CFP']\n",
      "[u'J23106:RFP/std:YFP/std:CFP' u'J23106:RFP/J23107:YFP/std:CFP'\n",
      " u'J23106:RFP/pLacI:YFP/std:CFP' u'J23106:RFP/pLas81:YFP/std:CFP']\n",
      "[u'OD600:600' u'CFP:420/50,485/20' u'RFP-YFP:585/10,620/15'\n",
      " u'RFP-YFP:500/27,540/25']\n",
      "[u'M9-glucosa' u'M9-glicerol']\n"
     ]
    }
   ],
   "source": [
    "pnames1 = dfexp1['plasmids_name'].unique()\n",
    "pnames2 = dfexp2['plasmids_name'].unique()\n",
    "pnames3 = dfexp3['plasmids_name'].unique()\n",
    "pnames4 = dfexp4['plasmids_name'].unique()\n",
    "mnames = dfexp1['measurements_name'].unique()\n",
    "mednames= dfexp1['samples_media'].unique()\n",
    "\n",
    "print pnames1\n",
    "print pnames2\n",
    "print pnames3\n",
    "print pnames4\n",
    "print mnames\n",
    "print mednames"
   ]
  },
  {
   "cell_type": "code",
   "execution_count": 7,
   "metadata": {
    "collapsed": true
   },
   "outputs": [],
   "source": [
    "#Funciones para ajuste Gompertz\n",
    "def F_sigma(t, A, um,l):\n",
    "    return ((A*np.exp(-np.exp((((um*np.exp(1))/A)*(l-t))+1))))\n",
    "\n",
    "def Function_fit(xdata,ydata,init,end,func=F_sigma,ParamBounds=([0,0,0],[3,1,300]),title = 'Curve Fitting'):\n",
    "        Y_fit={}\n",
    "\n",
    "        z,_=curve_fit(func,xdata[init:end], ydata[init:end],bounds=ParamBounds)\n",
    "\n",
    "        print(z)\n",
    "\n",
    "        evalF=func(xdata,z[0],z[1],z[2])\n",
    "        \n",
    "        plt.figure()\n",
    "        plt.plot(xdata, ydata, '.',label='OD')\n",
    "        plt.plot(xdata, evalF, '-',label='Ajuste')\n",
    "        plt.grid(color='lightgray', linestyle='-', linewidth=0.5)\n",
    "        plt.title(title)\n",
    "        plt.ylabel('Abs(nm)')\n",
    "        plt.xlabel('Tiempo(min)')\n",
    "        lgd=plt.legend(loc='lower right')\n",
    "        \n",
    "                  \n",
    "        plt.show()\n",
    "\n",
    "        Y_fit=evalF,z\n",
    "        \n",
    "        return(Y_fit)\n",
    "        \n",
    "       "
   ]
  },
  {
   "cell_type": "code",
   "execution_count": null,
   "metadata": {
    "collapsed": true
   },
   "outputs": [],
   "source": []
  },
  {
   "cell_type": "code",
   "execution_count": null,
   "metadata": {
    "collapsed": true
   },
   "outputs": [],
   "source": []
  },
  {
   "cell_type": "code",
   "execution_count": null,
   "metadata": {
    "collapsed": true
   },
   "outputs": [],
   "source": []
  },
  {
   "cell_type": "code",
   "execution_count": null,
   "metadata": {
    "collapsed": true
   },
   "outputs": [],
   "source": []
  },
  {
   "cell_type": "code",
   "execution_count": null,
   "metadata": {
    "collapsed": true
   },
   "outputs": [],
   "source": []
  },
  {
   "cell_type": "code",
   "execution_count": null,
   "metadata": {
    "collapsed": true
   },
   "outputs": [],
   "source": []
  },
  {
   "cell_type": "code",
   "execution_count": null,
   "metadata": {
    "collapsed": true
   },
   "outputs": [],
   "source": []
  },
  {
   "cell_type": "code",
   "execution_count": null,
   "metadata": {
    "collapsed": true
   },
   "outputs": [],
   "source": []
  },
  {
   "cell_type": "code",
   "execution_count": null,
   "metadata": {
    "collapsed": true
   },
   "outputs": [],
   "source": []
  },
  {
   "cell_type": "code",
   "execution_count": null,
   "metadata": {
    "collapsed": true
   },
   "outputs": [],
   "source": []
  }
 ],
 "metadata": {
  "kernelspec": {
   "display_name": "Python 2",
   "language": "python",
   "name": "python2"
  },
  "language_info": {
   "codemirror_mode": {
    "name": "ipython",
    "version": 2
   },
   "file_extension": ".py",
   "mimetype": "text/x-python",
   "name": "python",
   "nbconvert_exporter": "python",
   "pygments_lexer": "ipython2",
   "version": "2.7.14"
  }
 },
 "nbformat": 4,
 "nbformat_minor": 2
}
