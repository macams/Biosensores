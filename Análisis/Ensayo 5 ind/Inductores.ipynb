{
 "cells": [
  {
   "cell_type": "code",
   "execution_count": 2,
   "metadata": {
    "collapsed": true
   },
   "outputs": [],
   "source": [
    "import flapjack\n",
    "from flapjack import registry as reg\n",
    "import matplotlib.pyplot as plt\n",
    "import pandas as pd\n",
    "import numpy as np\n",
    "%matplotlib inline"
   ]
  },
  {
   "cell_type": "code",
   "execution_count": 3,
   "metadata": {
    "collapsed": true
   },
   "outputs": [],
   "source": [
    "registry = reg.Registry(database_name='data', username='maca', password='macata12')"
   ]
  },
  {
   "cell_type": "markdown",
   "metadata": {},
   "source": [
    "We can now get a pandas dataframe with all the data for a particular plasmid:"
   ]
  },
  {
   "cell_type": "code",
   "execution_count": 4,
   "metadata": {
    "scrolled": true
   },
   "outputs": [
    {
     "name": "stdout",
     "output_type": "stream",
     "text": [
      "   measurements_id measurements_name  measurements_value  measurements_time  \\\n",
      "0           111752         OD600:600               0.086           0.194444   \n",
      "1           111753         OD600:600               0.085           0.194444   \n",
      "2           111754         OD600:600               0.086           0.194444   \n",
      "3           111755         OD600:600               0.085           0.194444   \n",
      "4           111756         OD600:600               0.085           0.194444   \n",
      "\n",
      "   measurements_sample_id  samples_id  samples_experiment_id  samples_row  \\\n",
      "0                     296         296                      4            1   \n",
      "1                     297         297                      4            1   \n",
      "2                     298         298                      4            1   \n",
      "3                     299         299                      4            1   \n",
      "4                     300         300                      4            1   \n",
      "\n",
      "   samples_col samples_media  \n",
      "0            8    M9-glucosa  \n",
      "1            9    M9-glucosa  \n",
      "2           10    M9-glucosa  \n",
      "3           11    M9-glucosa  \n",
      "4           12    M9-glucosa  \n",
      "   measurements_id measurements_name  measurements_value  measurements_time  \\\n",
      "0           111771         OD600:600               0.085           0.194444   \n",
      "1           111772         OD600:600               0.085           0.194444   \n",
      "2           111773         OD600:600               0.086           0.194444   \n",
      "3           111774         OD600:600               0.086           0.194444   \n",
      "4           111775         OD600:600               0.085           0.194444   \n",
      "\n",
      "   measurements_sample_id  samples_id  samples_experiment_id  samples_row  \\\n",
      "0                     315         315                      4            3   \n",
      "1                     316         316                      4            3   \n",
      "2                     317         317                      4            3   \n",
      "3                     318         318                      4            3   \n",
      "4                     319         319                      4            3   \n",
      "\n",
      "   samples_col samples_media  \n",
      "0            3    M9-glucosa  \n",
      "1            4    M9-glucosa  \n",
      "2            5    M9-glucosa  \n",
      "3            6    M9-glucosa  \n",
      "4            7    M9-glucosa  \n",
      "   measurements_id measurements_name  measurements_value  measurements_time  \\\n",
      "0           409755         OD600:600               0.094           0.194444   \n",
      "1           409756         OD600:600               0.108           0.194444   \n",
      "2           409757         OD600:600               0.107           0.194444   \n",
      "3           409758         OD600:600               0.083           0.194444   \n",
      "4           409759         OD600:600               0.082           0.194444   \n",
      "\n",
      "   measurements_sample_id  samples_id  samples_experiment_id  samples_row  \\\n",
      "0                    1083        1083                     12            3   \n",
      "1                    1084        1084                     12            3   \n",
      "2                    1085        1085                     12            3   \n",
      "3                    1086        1086                     12            3   \n",
      "4                    1087        1087                     12            3   \n",
      "\n",
      "   samples_col samples_media  \n",
      "0            3    M9-glucosa  \n",
      "1            4    M9-glucosa  \n",
      "2            5    M9-glucosa  \n",
      "3            6    M9-glucosa  \n",
      "4            7    M9-glucosa  \n"
     ]
    }
   ],
   "source": [
    "a = registry.get_plasmid('pTet:RFP/J23107:YFP/std:CFP')\n",
    "b = registry.get_plasmid('pTet:RFP/pLacI:YFP/std:CFP')\n",
    "c = registry.get_plasmid('J23106:RFP/pLacI:YFP/std:CFP')\n",
    "print a.head()\n",
    "print b.head()\n",
    "print c.head()"
   ]
  },
  {
   "cell_type": "markdown",
   "metadata": {},
   "source": [
    "Pandas allows us to filter, select, group and otherwise manipulate the data set, and provides some plotting functions:"
   ]
  },
  {
   "cell_type": "code",
   "execution_count": 10,
   "metadata": {},
   "outputs": [
    {
     "ename": "AttributeError",
     "evalue": "'DataFrame' object has no attribute 'attribute'",
     "output_type": "error",
     "traceback": [
      "\u001b[1;31m---------------------------------------------------------------------------\u001b[0m",
      "\u001b[1;31mAttributeError\u001b[0m                            Traceback (most recent call last)",
      "\u001b[1;32m<ipython-input-10-b9395924882c>\u001b[0m in \u001b[0;36m<module>\u001b[1;34m()\u001b[0m\n\u001b[1;32m----> 1\u001b[1;33m \u001b[0ma\u001b[0m\u001b[1;33m.\u001b[0m\u001b[0mattribute\u001b[0m\u001b[1;33m(\u001b[0m\u001b[1;33m)\u001b[0m\u001b[1;33m\u001b[0m\u001b[0m\n\u001b[0m\u001b[0;32m      2\u001b[0m \u001b[1;33m\u001b[0m\u001b[0m\n\u001b[0;32m      3\u001b[0m \u001b[0mayfp_glicerol\u001b[0m \u001b[1;33m=\u001b[0m \u001b[0ma\u001b[0m\u001b[1;33m[\u001b[0m\u001b[1;33m(\u001b[0m\u001b[0ma\u001b[0m\u001b[1;33m.\u001b[0m\u001b[0mmeasurements_name\u001b[0m\u001b[1;33m==\u001b[0m\u001b[1;34m'RFP-YFP:500/27,540/25'\u001b[0m\u001b[1;33m)\u001b[0m\u001b[1;33m&\u001b[0m\u001b[1;33m(\u001b[0m\u001b[0ma\u001b[0m\u001b[1;33m.\u001b[0m\u001b[0msamples_media\u001b[0m\u001b[1;33m==\u001b[0m\u001b[1;34m'M9-glucosa'\u001b[0m\u001b[1;33m)\u001b[0m\u001b[1;33m]\u001b[0m\u001b[1;33m\u001b[0m\u001b[0m\n\u001b[0;32m      4\u001b[0m \u001b[0mcfp_glicerol\u001b[0m \u001b[1;33m=\u001b[0m \u001b[0mdf\u001b[0m\u001b[1;33m[\u001b[0m\u001b[1;33m(\u001b[0m\u001b[0mdf\u001b[0m\u001b[1;33m.\u001b[0m\u001b[0mmeasurements_name\u001b[0m\u001b[1;33m==\u001b[0m\u001b[1;34m'CFP:420/50,485/20'\u001b[0m\u001b[1;33m)\u001b[0m\u001b[1;33m&\u001b[0m\u001b[1;33m(\u001b[0m\u001b[0mdf\u001b[0m\u001b[1;33m.\u001b[0m\u001b[0msamples_media\u001b[0m\u001b[1;33m==\u001b[0m\u001b[1;34m'M9-glucosa'\u001b[0m\u001b[1;33m)\u001b[0m\u001b[1;33m]\u001b[0m\u001b[1;33m\u001b[0m\u001b[0m\n\u001b[0;32m      5\u001b[0m \u001b[0mod_glicerol\u001b[0m \u001b[1;33m=\u001b[0m \u001b[0mdf\u001b[0m\u001b[1;33m[\u001b[0m\u001b[1;33m(\u001b[0m\u001b[0mdf\u001b[0m\u001b[1;33m.\u001b[0m\u001b[0mmeasurements_name\u001b[0m\u001b[1;33m==\u001b[0m\u001b[1;34m'OD600:600'\u001b[0m\u001b[1;33m)\u001b[0m\u001b[1;33m&\u001b[0m\u001b[1;33m(\u001b[0m\u001b[0mdf\u001b[0m\u001b[1;33m.\u001b[0m\u001b[0msamples_media\u001b[0m\u001b[1;33m==\u001b[0m\u001b[1;34m'M9-glucosa'\u001b[0m\u001b[1;33m)\u001b[0m\u001b[1;33m]\u001b[0m\u001b[1;33m\u001b[0m\u001b[0m\n",
      "\u001b[1;32mC:\\Users\\maca\\Anaconda3\\envs\\flapjack\\lib\\site-packages\\pandas\\core\\generic.pyc\u001b[0m in \u001b[0;36m__getattr__\u001b[1;34m(self, name)\u001b[0m\n\u001b[0;32m   3079\u001b[0m             \u001b[1;32mif\u001b[0m \u001b[0mname\u001b[0m \u001b[1;32min\u001b[0m \u001b[0mself\u001b[0m\u001b[1;33m.\u001b[0m\u001b[0m_info_axis\u001b[0m\u001b[1;33m:\u001b[0m\u001b[1;33m\u001b[0m\u001b[0m\n\u001b[0;32m   3080\u001b[0m                 \u001b[1;32mreturn\u001b[0m \u001b[0mself\u001b[0m\u001b[1;33m[\u001b[0m\u001b[0mname\u001b[0m\u001b[1;33m]\u001b[0m\u001b[1;33m\u001b[0m\u001b[0m\n\u001b[1;32m-> 3081\u001b[1;33m             \u001b[1;32mreturn\u001b[0m \u001b[0mobject\u001b[0m\u001b[1;33m.\u001b[0m\u001b[0m__getattribute__\u001b[0m\u001b[1;33m(\u001b[0m\u001b[0mself\u001b[0m\u001b[1;33m,\u001b[0m \u001b[0mname\u001b[0m\u001b[1;33m)\u001b[0m\u001b[1;33m\u001b[0m\u001b[0m\n\u001b[0m\u001b[0;32m   3082\u001b[0m \u001b[1;33m\u001b[0m\u001b[0m\n\u001b[0;32m   3083\u001b[0m     \u001b[1;32mdef\u001b[0m \u001b[0m__setattr__\u001b[0m\u001b[1;33m(\u001b[0m\u001b[0mself\u001b[0m\u001b[1;33m,\u001b[0m \u001b[0mname\u001b[0m\u001b[1;33m,\u001b[0m \u001b[0mvalue\u001b[0m\u001b[1;33m)\u001b[0m\u001b[1;33m:\u001b[0m\u001b[1;33m\u001b[0m\u001b[0m\n",
      "\u001b[1;31mAttributeError\u001b[0m: 'DataFrame' object has no attribute 'attribute'"
     ]
    }
   ],
   "source": [
    "ayfp_glicerol = a[(a.measurements_name=='RFP-YFP:500/27,540/25')&(a.samples_media=='M9-glucosa')]\n",
    "cfp_glicerol = df[(df.measurements_name=='CFP:420/50,485/20')&(df.samples_media=='M9-glucosa')]\n",
    "od_glicerol = df[(df.measurements_name=='OD600:600')&(df.samples_media=='M9-glucosa')]\n",
    "\n",
    "yfp_glicerol.plot.scatter(x='measurements_time', y='measurements_value')"
   ]
  },
  {
   "cell_type": "markdown",
   "metadata": {},
   "source": [
    "Selection of a specific experiment (skip if all data required)"
   ]
  },
  {
   "cell_type": "code",
   "execution_count": 10,
   "metadata": {
    "collapsed": true
   },
   "outputs": [],
   "source": [
    "yfp_glic=yfp_glicerol[(yfp_glicerol.samples_experiment_id==1)]\n",
    "cfp_glic=cfp_glicerol[(cfp_glicerol.samples_experiment_id==1)]\n",
    "od_glic=od_glicerol[(od_glicerol.samples_experiment_id==1)]"
   ]
  },
  {
   "cell_type": "markdown",
   "metadata": {},
   "source": [
    "Pandas data series can be directly plotted using Matplotlib/Pyplot:"
   ]
  },
  {
   "cell_type": "code",
   "execution_count": 11,
   "metadata": {},
   "outputs": [
    {
     "data": {
      "text/plain": [
       "Text(0,0.5,u'cfp (AU)')"
      ]
     },
     "execution_count": 11,
     "metadata": {},
     "output_type": "execute_result"
    },
    {
     "data": {
      "image/png": "[encoded data removed]",
      "text/plain": [
       "<matplotlib.figure.Figure at 0xe4748d0>"
      ]
     },
     "metadata": {},
     "output_type": "display_data"
    }
   ],
   "source": [
    "plt.figure()\n",
    "plt.plot(yfp_glic['measurements_value'], cfp_glic['measurements_value'], '.')\n",
    "plt.xlabel('yfp (AU)')\n",
    "plt.ylabel('cfp (AU)')"
   ]
  },
  {
   "cell_type": "markdown",
   "metadata": {},
   "source": [
    "In the end for complete analysis we can get simple numpy arrays by using the `values` attribute, for example:"
   ]
  },
  {
   "cell_type": "code",
   "execution_count": 7,
   "metadata": {},
   "outputs": [
    {
     "data": {
      "text/plain": [
       "Text(0,0.5,u'cfp (AU)')"
      ]
     },
     "execution_count": 7,
     "metadata": {},
     "output_type": "execute_result"
    },
    {
     "data": {
      "image/png": "[encoded data removed]",
      "text/plain": [
       "<matplotlib.figure.Figure at 0xe474b00>"
      ]
     },
     "metadata": {},
     "output_type": "display_data"
    }
   ],
   "source": [
    "y = yfp_glic['measurements_value'].values\n",
    "c = cfp_glic['measurements_value'].values\n",
    "t = cfp_glic['measurements_time'].values\n",
    "od = od_glic['measurements_value'].values\n",
    "plt.plot(c,y,'.')\n",
    "plt.xlabel('yfp (AU)')\n",
    "plt.ylabel('cfp (AU)')"
   ]
  },
  {
   "cell_type": "code",
   "execution_count": null,
   "metadata": {
    "collapsed": true
   },
   "outputs": [],
   "source": []
  }
 ],
 "metadata": {
  "kernelspec": {
   "display_name": "Python 2",
   "language": "python",
   "name": "python2"
  },
  "language_info": {
   "codemirror_mode": {
    "name": "ipython",
    "version": 2
   },
   "file_extension": ".py",
   "mimetype": "text/x-python",
   "name": "python",
   "nbconvert_exporter": "python",
   "pygments_lexer": "ipython2",
   "version": "2.7.14"
  }
 },
 "nbformat": 4,
 "nbformat_minor": 2
}
