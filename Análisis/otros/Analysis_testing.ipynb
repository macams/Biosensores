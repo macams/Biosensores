{
 "cells": [
  {
   "cell_type": "code",
   "execution_count": 1,
   "metadata": {},
   "outputs": [],
   "source": [
    "import flapjack\n",
    "from flapjack import registry as reg\n",
    "from flapjack import analysis as analysis\n",
    "import matplotlib.pyplot as plt\n",
    "import pandas as pd\n",
    "import pandas.io.sql as psql\n",
    "import numpy as np\n",
    "import scipy\n",
    "from scipy.optimize import curve_fit\n",
    "%matplotlib inline"
   ]
  },
  {
   "cell_type": "code",
   "execution_count": 2,
   "metadata": {},
   "outputs": [],
   "source": [
    "registry = reg.Registry(database_name='data', username='timrudge', password='1234')"
   ]
  },
  {
   "cell_type": "markdown",
   "metadata": {},
   "source": [
    "We can now get a pandas dataframe with all the data for a particular plasmid:"
   ]
  },
  {
   "cell_type": "code",
   "execution_count": 22,
   "metadata": {
    "scrolled": true
   },
   "outputs": [],
   "source": [
    "j = registry.join_all()\n",
    "plasmid_query = j.filter(flapjack.tables.plasmids.name=='pLux76:RFP/pLacI:YFP/std:CFP') \\\n",
    "        .filter(flapjack.tables.samples.media=='M9-glucosa')\n",
    "all_data = psql.read_sql_query(j.selectable, registry.engine)\n",
    "pLuxpLacStd_gluc = psql.read_sql_query(plasmid_query.selectable, registry.engine)\n",
    "measurement_names = np.unique(pLuxpLacStd_gluc['measurements_name'].values)  #command to get sample id values \n",
    "max_values = {}\n",
    "for m in measurement_names:\n",
    "    max_values[m] = np.max(all_data['measurements_value'].values)"
   ]
  },
  {
   "cell_type": "code",
   "execution_count": null,
   "metadata": {},
   "outputs": [],
   "source": []
  },
  {
   "cell_type": "code",
   "execution_count": 23,
   "metadata": {},
   "outputs": [
    {
     "name": "stdout",
     "output_type": "stream",
     "text": [
      "1.2293169669831963\n",
      "3.0979769957868406\n",
      "1.980043128318828\n"
     ]
    }
   ],
   "source": [
    "mx1 = max_values['CFP:420/50,485/20']\n",
    "mx2 = max_values['RFP-YFP:500/27,540/25']\n",
    "print analysis.channel_entropy(pLuxpLacStd_gluc, 'CFP:420/50,485/20', 32, [0,mx1])\n",
    "print analysis.channel_entropy(pLuxpLacStd_gluc, 'RFP-YFP:500/27,540/25', 32, [0,mx1])\n",
    "print analysis.channel_conditional_entropy(pLuxpLacStd_gluc, \\\n",
    "                                           'CFP:420/50,485/20', \\\n",
    "                                           'RFP-YFP:500/27,540/25', \\\n",
    "                                           [32,32], [[0,mx1],[0,mx2]])"
   ]
  },
  {
   "cell_type": "markdown",
   "metadata": {},
   "source": [
    "Pandas allows us to filter, select, group and otherwise manipulate the data set, and provides some plotting functions:"
   ]
  },
  {
   "cell_type": "code",
   "execution_count": null,
   "metadata": {},
   "outputs": [],
   "source": [
    "yfp_glicerol = df[(df.measurements_name=='RFP-YFP:500/27,540/25')&(df.samples_media=='M9-glicerol')]\n",
    "cfp_glicerol = df[(df.measurements_name=='CFP:420/50,485/20')&(df.samples_media=='M9-glicerol')]\n",
    "od_glicerol = df[(df.measurements_name=='OD600:600')&(df.samples_media=='M9-glicerol')]\n",
    "\n",
    "yfp_glicerol.plot.scatter(x='measurements_time', y='measurements_value')"
   ]
  },
  {
   "cell_type": "markdown",
   "metadata": {},
   "source": [
    "Selection of a specific experiment (skip if all data required)"
   ]
  },
  {
   "cell_type": "code",
   "execution_count": null,
   "metadata": {
    "collapsed": true
   },
   "outputs": [],
   "source": [
    "yfp_glic=yfp_glicerol[(yfp_glicerol.samples_experiment_id==4)]\n",
    "cfp_glic=cfp_glicerol[(cfp_glicerol.samples_experiment_id==4)]\n",
    "od_glic=od_glicerol[(od_glicerol.samples_experiment_id==4)]"
   ]
  },
  {
   "cell_type": "markdown",
   "metadata": {},
   "source": [
    "Pandas data series can be directly plotted using Matplotlib/Pyplot:"
   ]
  },
  {
   "cell_type": "code",
   "execution_count": null,
   "metadata": {},
   "outputs": [],
   "source": [
    "plt.figure()\n",
    "plt.plot(yfp_glic['measurements_value'], cfp_glic['measurements_value'], '.')\n",
    "plt.xlabel('yfp (AU)')\n",
    "plt.ylabel('cfp (AU)')"
   ]
  },
  {
   "cell_type": "markdown",
   "metadata": {},
   "source": [
    "In the end for complete analysis we can get simple numpy arrays by using the `values` attribute, for example:"
   ]
  },
  {
   "cell_type": "code",
   "execution_count": null,
   "metadata": {},
   "outputs": [],
   "source": [
    "y = yfp_glic['measurements_value'].values\n",
    "c = cfp_glic['measurements_value'].values\n",
    "t = cfp_glic['measurements_time'].values\n",
    "od = od_glic['measurements_value'].values\n",
    "xy = np.log(y)\n",
    "xc = np.log(c)\n",
    "plt.plot(c,y,'.')\n",
    "plt.xlabel('ln(yfp) (AU)')\n",
    "plt.ylabel('ln(cfp) (AU)')"
   ]
  },
  {
   "cell_type": "markdown",
   "metadata": {
    "collapsed": true
   },
   "source": [
    "There are different models that can be used to fit the data. Each one has different inputs and outputs so keep that in mind for the code."
   ]
  },
  {
   "cell_type": "code",
   "execution_count": null,
   "metadata": {},
   "outputs": [],
   "source": [
    "#Models\n",
    "t=od_glic['measurements_time'].values  #auxiliary variable, used as a substitute for all time values\n",
    "print(t.shape,t[700])\n",
    "\n",
    "def poly(t, mu, sig):                  #polymerase concentration simulation (parameters=mean,std dev)\n",
    "    P = np.exp(-(t-mu)**2/(2*sig**2))\n",
    "    return(P)\n",
    "\n",
    "def I(X, mu, sig, Klcm):           # Model for total fluorescence (input=od,time; \n",
    "                                       # parameters=mean,std dev,promoter affinity,translation rate*max transcription rate;\n",
    "    A,t=X                              # output=Theoretical total fluorescence)\n",
    "    P = poly(t,mu,sig)\n",
    "    Fp = Klcm*P #*c1/(1+P*c1)\n",
    "    I = np.cumsum(A*Fp)\n",
    "    return(I)\n",
    "\n",
    "def I_pair(X, mu, sig, Klcm1, Klcm2):    # Model for dual fluorescence intensity (input=od,time; \n",
    "    A,t = X\n",
    "    XX = (A[0:len(A)/2], t[0:len(t)/2])\n",
    "                                                    # parameters=mean,std dev,promoter1 affinity,promoter 2 affinity,\n",
    "    I1 = I(XX,mu,sig,Klcm1)                 # translation rate 1*max transcription rate 1,  \n",
    "    I2 = I(XX,mu,sig,Klcm2)                 # translation rate 2*max transcription rate 2; \n",
    "\n",
    "    return(np.concatenate((I1,I2)))                           # output=thoretical fluorescence intensities 1 & 2)\n",
    "\n",
    "def dIdt(X,  mu, sig, c1, Klcm):       # Model for fluorescence rate (input=od,time; \n",
    "                                       # parameters=mean,std dev,promoter affinity,translation rate*max transcription rate;\n",
    "    A,t=X                              # output=theoretical fluorescence derivative)\n",
    "    P = poly(t,mu,sig)\n",
    "    Fp = Klcm*P*c1/(1+P*c1)\n",
    "    dIdt = A*Fp\n",
    "    return(dIdt)\n",
    "\n",
    "def dIdt_pair(X, mu, sig, c1, c2, Klcm1, Klcm2):    # Model for dual fluorescence rate (input=od,time; \n",
    "                                                    # parameters=mean,std dev,promoter1 affinity,promoter 2 affinity,\n",
    "    dIdt1 = dIdt(X,mu,sig,c1,Klcm1)                 # translation rate 1*max transcription rate 1,  \n",
    "    dIdt2 = dIdt(X,mu,sig,c2,Klcm2)                 # translation rate 2*max transcription rate 2; \n",
    "    return((dIdt1,dIdt2))                           # output=thoretical fluorescence derivatives 1 & 2)\n",
    "    \n",
    "def ratio(t,  mu, sig, c1, c2, cm12):\n",
    "\n",
    "    P = poly(t,mu,sig)\n",
    "    P = P/np.max(P)\n",
    "    lr = np.log(cm12*(c1/(1+P*c1))/(c2/(1+P*c2)))\n",
    "    #dI1dI2 = cm12*(1+P*c2)/(1+P*c1)\n",
    "    return(lr)"
   ]
  },
  {
   "cell_type": "markdown",
   "metadata": {},
   "source": [
    "Function that fits the curve to best parameters given initial guesses. curve_fit(function,xdata,ydata, error tolerance, initial guesses)"
   ]
  },
  {
   "cell_type": "code",
   "execution_count": null,
   "metadata": {
    "collapsed": true
   },
   "outputs": [],
   "source": [
    "datavals = np.concatenate((y-y.min(), c-c.min()))\n",
    "\n",
    "odin = np.tile(od, 2)\n",
    "tin = np.tile(t, 2)\n",
    "\n",
    "zy,czy = curve_fit(I, (od,t), y-y.min(), ftol=1e-6, p0=[20,5,1e3])\n",
    "zc,czc = curve_fit(I, (od,t), c-c.min(), ftol=1e-6, p0=[20,5,1e3])\n",
    "zp,czp = curve_fit(I_pair, (odin,tin), datavals, ftol=1e-6, p0=[20,5,1e3,1e3])"
   ]
  },
  {
   "cell_type": "code",
   "execution_count": null,
   "metadata": {},
   "outputs": [],
   "source": [
    "print \"Estimated parameters:\"\n",
    "print zp\n",
    "print \"\\nCovariance matrix\"\n",
    "print czp\n",
    "perr = np.sqrt(np.diag(czp))\n",
    "print \"\\nStandard error (stdev/mean) for each param:\"\n",
    "print perr/zp"
   ]
  },
  {
   "cell_type": "code",
   "execution_count": null,
   "metadata": {},
   "outputs": [],
   "source": [
    "evalFy=I((od,t),zy[0],zy[1],zy[2])     #evalF=theoretical function with parameters from curve_fit\n",
    "evalFc=I((od,t),zc[0],zc[1],zc[2])  \n",
    "evalFp=I_pair((odin,tin),zp[0],zp[1],zp[2],zp[3])\n",
    "evalFpy = evalFp[0:len(evalFp)/2]\n",
    "evalFpc = evalFp[len(evalFp)/2:]\n",
    "\n",
    "plt.figure()\n",
    "plt.title('fluorescence data vs. model with fitted parameters')\n",
    "plt.plot(t, evalFy,'.',c='r', alpha=.4,markersize=3,label='Theoretical parameters/function')              \n",
    "plt.plot(t, y-y.min(),'.',c='m', alpha=.4,markersize=3,label='yfp data')\n",
    "plt.xlabel('time (hours)')\n",
    "plt.ylabel('yfp (AU)')\n",
    "plt.legend()\n",
    "\n",
    "plt.figure()\n",
    "plt.title('fluorescence data vs. model with fitted parameters')\n",
    "plt.plot(t, evalFc,'.',c='b', alpha=.4,markersize=3,label='Theoretical parameters/function')              \n",
    "plt.plot(t, c-c.min(),'.',c='m', alpha=.4,markersize=3,label='yfp data')\n",
    "plt.xlabel('time (hours)')\n",
    "plt.ylabel('yfp (AU)')\n",
    "plt.legend()\n",
    "\n",
    "#theoretical polymerase from fitted parameters\n",
    "plt.figure()\n",
    "plt.plot(t,poly(t,zy[0],-zy[1]), c='r')\n",
    "plt.plot(t,poly(t,zc[0],-zc[1]), c='b')\n",
    "plt.xlabel('time (hours)')\n",
    "plt.ylabel('[Polymerase] (AU)')\n",
    "\n",
    "plt.figure()\n",
    "plt.plot(c-c.min(), y-y.min(), '.', c='k')\n",
    "plt.plot(evalFc, evalFy, '.', c='m')\n",
    "plt.plot(evalFpc, evalFpy, '.', c='y')\n",
    "plt.xlabel('time (hours)')\n",
    "plt.ylabel('[Polymerase] (AU)')\n",
    "\n",
    "plt.figure()\n",
    "plt.title('log(OD)')\n",
    "plt.plot(t, np.log(od),'g.')"
   ]
  },
  {
   "cell_type": "code",
   "execution_count": null,
   "metadata": {
    "collapsed": true
   },
   "outputs": [],
   "source": []
  },
  {
   "cell_type": "code",
   "execution_count": null,
   "metadata": {
    "collapsed": true
   },
   "outputs": [],
   "source": []
  },
  {
   "cell_type": "code",
   "execution_count": null,
   "metadata": {
    "collapsed": true
   },
   "outputs": [],
   "source": []
  }
 ],
 "metadata": {
  "kernelspec": {
   "display_name": "Python 2",
   "language": "python",
   "name": "python2"
  },
  "language_info": {
   "codemirror_mode": {
    "name": "ipython",
    "version": 2
   },
   "file_extension": ".py",
   "mimetype": "text/x-python",
   "name": "python",
   "nbconvert_exporter": "python",
   "pygments_lexer": "ipython2",
   "version": "2.7.14"
  }
 },
 "nbformat": 4,
 "nbformat_minor": 2
}
